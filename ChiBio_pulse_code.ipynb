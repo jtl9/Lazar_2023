{
 "cells": [
  {
   "cell_type": "code",
   "execution_count": null,
   "id": "4a896c33",
   "metadata": {},
   "outputs": [],
   "source": [
    "##DELETE CustomProgram FUNCTION FROM app.py AND REPLACE WITH THIS CODE TO RUN PULSATILE EXPERIMENTS##\n",
    "def CustomProgram(M):\n",
    "    #Runs a custom program, some examples are included.\n",
    "    global sysData\n",
    "    M=str(M)\n",
    "    program=sysData[M]['Custom']['Program']\n",
    "    \n",
    "    #Noting that the process is starting\n",
    "    addTerminal(M,'Running Program = ' + str(program) + ' on device ' + str(M))\n",
    "    Value = 0.85 #this is the duty cycle\n",
    "    LED = 'LEDD' #read manual, but LEDD is the 525nm green LED\n",
    "    \n",
    "    if (program==\"C1\"): #settig program C1 as our pulse program\n",
    "        timept=int(sysData[M]['Custom']['Status']) #This is the timestep as we follow in minutes\n",
    "        sysData[M]['Custom']['Status']=timept+1 #Increment time as we have entered the loop another time!\n",
    "        \n",
    "        timelength=10 #Time between doses in minutes,period of pulse\n",
    "        if(timept%timelength==2): #So this happens every 10 minutes\n",
    "            #Turning LED onto optimal intensitty\n",
    "            SetOutputOn(M,LED,0.003)\n",
    "            \n",
    "            time.sleep(Value*60.0*10)#Sleep 85% of 10 minutes such that the light stays green for 85%of the time, this time is in seconds\n",
    "            \n",
    "            #Turning LED off until next pulse \n",
    "            SetOutputOn(M,LED,0.0)\n",
    "    \n",
    "    return\n",
    "            "
   ]
  }
 ],
 "metadata": {
  "kernelspec": {
   "display_name": "Python 3 (ipykernel)",
   "language": "python",
   "name": "python3"
  },
  "language_info": {
   "codemirror_mode": {
    "name": "ipython",
    "version": 3
   },
   "file_extension": ".py",
   "mimetype": "text/x-python",
   "name": "python",
   "nbconvert_exporter": "python",
   "pygments_lexer": "ipython3",
   "version": "3.8.15"
  }
 },
 "nbformat": 4,
 "nbformat_minor": 5
}
